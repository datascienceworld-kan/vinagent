{
 "cells": [
  {
   "cell_type": "markdown",
   "id": "d3713b65",
   "metadata": {},
   "source": [
    "# Banking and Finance Agent"
   ]
  },
  {
   "cell_type": "markdown",
   "id": "425ac9f5",
   "metadata": {},
   "source": [
    "[![Open in Colab](https://colab.research.google.com/assets/colab-badge.svg)](https://colab.research.google.com/github/datascienceworld-kan/vinagent-docs/blob/main/docs/tutorials/guides/banking_agent.ipynb)\n",
    "\n",
    "Timely report for decision making in banking and finance organizations plays a very important role in operational efficiency, increase profit, and revenue growth. Thanks to automatic business report systems, many organizations can regulate their business policies and regulations adapting with market changes. Therefore, they will gain benefit in long-term compared with the organizations without automatic business reports.\n",
    "\n",
    "For instance, following financial crisis 2008, JPMorgan Chase invested in upgrading its financial reporting systems to provide daily insights into capital positions, liquidity, and risk. This timely report allows bank to optimize captial allocation dynamically, enabling swift resumption of share repurchases and dividend increases compared to competitors.\n",
    "\n",
    "Another example is DBS bank in Singapore makes a Digital Transformation revamped its financial reporting infrastructure with a centralized data lake and analytics tools, slashing month-end closing times from 12 days to just 3 days. These changes improved the operational efficiency and drove revenue growth.\n",
    "\n",
    "\n",
    "That is why vinagent supports a strong Banking and Finance agent that works on SQL toolkit querying on both on-premise and cloud. In this notebook, we will guide how to use vinagent to create a banking and finance agent that optimize decision making based on SQL query. This is a list of features you will study:\n",
    "\n",
    "- Create a agent to question and answer over a business query.\n",
    "- How to integrate special SQL tools like SQL database schema, SQL query generation.\n",
    "- Drive an AI agent workflow to transform business question into SQL table output.\n",
    "- Create a SQL cycle to optimize SQL query over many rounds."
   ]
  },
  {
   "cell_type": "markdown",
   "id": "64ed3cb3",
   "metadata": {},
   "source": [
    "# Prequisite Installation\n",
    "\n",
    "You need to install dependencies"
   ]
  },
  {
   "cell_type": "code",
   "execution_count": null,
   "id": "7f4596c4",
   "metadata": {},
   "outputs": [],
   "source": [
    "%pip install vinagent langchain_openai==0.3.7"
   ]
  },
  {
   "cell_type": "markdown",
   "id": "d2b2ee90",
   "metadata": {},
   "source": [
    "Setup [OpenAI key](https://platform.openai.com/api-keys) for running LLM models."
   ]
  },
  {
   "cell_type": "code",
   "execution_count": null,
   "id": "2a7547a6",
   "metadata": {},
   "outputs": [],
   "source": [
    "# %%writefile .env\n",
    "# OPENAI_API_KEY=your_api_key"
   ]
  },
  {
   "cell_type": "markdown",
   "id": "4a47a869",
   "metadata": {},
   "source": [
    "## Initialize LLM\n",
    "\n",
    "Let's initialize LLM model as a brain of AI Agent. In this tutorial, we select `GPT-4o-mini` as baseline model. You can refer to [Live-bench](https://livebench.ai/#/) leaderboard to select the best model for coding task."
   ]
  },
  {
   "cell_type": "code",
   "execution_count": 1,
   "id": "120d3821",
   "metadata": {},
   "outputs": [],
   "source": [
    "from langchain_openai import ChatOpenAI\n",
    "from dotenv import load_dotenv, find_dotenv\n",
    "\n",
    "load_dotenv(find_dotenv('.env'))\n",
    "\n",
    "llm = ChatOpenAI(\n",
    "    model = \"o4-mini\"\n",
    ")"
   ]
  },
  {
   "cell_type": "markdown",
   "id": "e8b336a0",
   "metadata": {},
   "source": [
    "## Initialize SQL database\n",
    "\n",
    "We fake a SQL database as an example demo for the finance and banking Agent. \n",
    "\n",
    "**This database includes these tables**\n",
    "\n",
    "1. Customer\n",
    "\n",
    "- CustomerID (PK): Unique identifier for each customer.\n",
    "- Name: Full name of the customer.\n",
    "- Address: Address of the customer.\n",
    "- Contact: Contact details (e.g., phone number, email).\n",
    "- Username (Unique): Username used to log in.\n",
    "- Password: Encrypted password for authentication.\n",
    "\n",
    "2. Account\n",
    "\n",
    "- AccountID (PK): Unique identifier of the account.\n",
    "- CustomerID (FK → Customer.CustomerID): Identifies the owner of the account.\n",
    "- ProductType: Type of account (e.g., savings, current).\n",
    "- ProductCategory: Category (e.g., retail, business).\n",
    "- Balance: Current balance of the account.\n",
    "\n",
    "3. Transactions\n",
    "\n",
    "- TransactionID (PK, Auto Increment): Unique identifier of the transaction.\n",
    "- AccountID (FK → Account.AccountID): Account involved in the transaction.\n",
    "- Type: Transaction type (e.g., deposit, withdrawal, transfer).\n",
    "- Amount: Transaction amount.\n",
    "- Timestamp: Date and time of the transaction.\n",
    "\n",
    "4. Deposit\n",
    "\n",
    "- DepositID (PK): Unique identifier of the deposit product.\n",
    "- CustomerID (FK → Customer.CustomerID): Customer who owns the deposit.\n",
    "- ProductType: Type of deposit (e.g., fixed, recurring).\n",
    "- ProductCategory: Category of deposit product.\n",
    "- Balance: Current deposit balance.\n",
    "- Term: Deposit term (e.g., 12 months).\n",
    "\n",
    "5. Loan\n",
    "\n",
    "- LoanID (PK): Unique identifier of the loan product.\n",
    "- CustomerID (FK → Customer.CustomerID): Customer who took the loan.\n",
    "- ProductType: Type of loan (e.g., personal, home, auto).\n",
    "- ProductCategory: Category of loan.\n",
    "- Balance: Outstanding loan balance.\n",
    "- Term: Loan duration (e.g., 36 months).\n",
    "\n",
    "6. Beneficiary\n",
    "\n",
    "- BeneficiaryID (PK): Unique identifier of the beneficiary.\n",
    "- CustomerID (FK → Customer.CustomerID): Customer who added the beneficiary.\n",
    "- AccountNumber: Beneficiary’s account number.\n",
    "- BankName: Beneficiary’s bank name.\n",
    "\n",
    "**This is relationships between entities**\n",
    "\n",
    "1. Customer – Account\n",
    "* One-to-Many: A customer can hold multiple accounts.\n",
    "* FK: Account.CustomerID → Customer.CustomerID\n",
    "\n",
    "2. Customer – Deposit\n",
    "* One-to-Many: A customer can hold multiple deposit products.\n",
    "* FK: Deposit.CustomerID → Customer.CustomerID\n",
    "\n",
    "3. Customer – Loan\n",
    "* One-to-Many: A customer can take multiple loans.\n",
    "* FK: Loan.CustomerID → Customer.CustomerID\n",
    "\n",
    "4. Customer – Beneficiary\n",
    "* One-to-Many: A customer can add multiple beneficiaries.\n",
    "* FK: Beneficiary.CustomerID → Customer.CustomerID\n",
    "\n",
    "5. Account – Transactions\n",
    "* One-to-Many: An account can have multiple transactions.\n",
    "* FK: Transactions.AccountID → Account.AccountID\n",
    "\n",
    "![](https://raw.githubusercontent.com/datascienceworld-kan/vinagent/refs/heads/main/docs/docs/get_started/images/financial_db.png)\n",
    "\n",
    "**Figure 1.** The financial database schema."
   ]
  },
  {
   "cell_type": "markdown",
   "id": "a8cc0bd8",
   "metadata": {},
   "source": [
    "We will run SQL code to create a fake finanice database. The SQL code for the fake database is available at [banking.sql](https://github.com/datascienceworld-kan/vinagent/blob/main/docs/docs/tutorials/guides/banking.sql). Let's download them and save to your local machine at `./banking.sql`."
   ]
  },
  {
   "cell_type": "code",
   "execution_count": null,
   "id": "4892a8d4",
   "metadata": {},
   "outputs": [
    {
     "name": "stdout",
     "output_type": "stream",
     "text": [
      "Database financial_db.db created and populated successfully.\n"
     ]
    }
   ],
   "source": [
    "import os\n",
    "import sqlite3\n",
    "\n",
    "sql_table_name = 'financial_db.db'\n",
    "sql_script_path = 'vinagent/docs/docs/tutorials/get_started/banking.sql' # You should select right path of SQL script in your local machine.\n",
    "\n",
    "if not os.path.exists(f\"{sql_table_name}\"):\n",
    "    # Connect to SQLite database (creates financial_db.db if it doesn't exist)\n",
    "    conn = sqlite3.connect(sql_table_name)\n",
    "    cursor = conn.cursor()\n",
    "\n",
    "    # Read the SQL file\n",
    "    with open(sql_script_path, 'r') as file:\n",
    "        sql_script = file.read()\n",
    "\n",
    "    # Split the script into individual statements\n",
    "    statements = sql_script.split(';')\n",
    "\n",
    "    # Execute each SQL statement\n",
    "    for statement in statements:\n",
    "        # Skip empty statements\n",
    "        if statement.strip():\n",
    "            try:\n",
    "                cursor.execute(statement)\n",
    "            except sqlite3.Error as e:\n",
    "                print(f\"Error executing statement: {e}\\nStatement: {statement}\")\n",
    "\n",
    "    # Commit the changes and close the connection\n",
    "    conn.commit()\n",
    "    conn.close()\n",
    "    print(f\"Database {sql_table_name} created and populated successfully.\")\n",
    "else:\n",
    "    print(f\"Database {sql_table_name} already exists.\")"
   ]
  },
  {
   "cell_type": "markdown",
   "id": "10c0b590",
   "metadata": {},
   "source": [
    "Let's test the connection to the new database."
   ]
  },
  {
   "cell_type": "code",
   "execution_count": null,
   "id": "0596279a",
   "metadata": {},
   "outputs": [],
   "source": [
    "from vinagent.utilities import SQLDatabase\n",
    "\n",
    "db = SQLDatabase.from_uri(f\"sqlite:///{sql_table_name}\")\n",
    "\n",
    "print(f\"Dialect: {db.dialect}\")\n",
    "print(f\"Available tables: {db.get_usable_table_names()}\")\n",
    "print(f'Sample output: {db.run(\"SELECT * FROM Customer LIMIT 5;\")}')"
   ]
  },
  {
   "cell_type": "markdown",
   "id": "a6210c91",
   "metadata": {},
   "source": [
    "To finish a pipeline which transform from business query into SQL query, we need to use a list of SQL database tools including:\n",
    "\n",
    "- `sql_db_query`: Execute an input SQL query and returns a result from the database.\n",
    "\n",
    "- `sql_db_schema`: Searching the table schemas and sample rows for the list of input tables. This tool helps LLM understand the context of list tables.\n",
    "\n",
    "- `sql_db_list_tables`: List out the list of available tables in the database.\n",
    "\n",
    "- `sql_db_query_checker`: Use this tool to double check if your query is correct before executing it. Always use this tool before executing a query with `sql_db_query` to avoid database error.\n"
   ]
  },
  {
   "cell_type": "code",
   "execution_count": 4,
   "id": "9fe9e532",
   "metadata": {},
   "outputs": [
    {
     "name": "stdout",
     "output_type": "stream",
     "text": [
      "sql_db_query: Input to this tool is a detailed and correct SQL query, output is a result from the database. If the query is not correct, an error message will be returned. If an error is returned, rewrite the query, check the query, and try again. If you encounter an issue with Unknown column 'xxxx' in 'field list', use sql_db_schema to query the correct table fields.\n",
      "\n",
      "sql_db_schema: Input to this tool is a comma-separated list of tables, output is the schema and sample rows for those tables. Be sure that the tables actually exist by calling sql_db_list_tables first! Example Input: table1, table2, table3\n",
      "\n",
      "sql_db_list_tables: Input is an empty string, output is a comma-separated list of tables in the database.\n",
      "\n",
      "sql_db_query_checker: Use this tool to double check if your query is correct before executing it. Always use this tool before executing a query with sql_db_query!\n",
      "\n"
     ]
    }
   ],
   "source": [
    "from vinagent.utilities import SQLDatabaseToolkit\n",
    "\n",
    "toolkit = SQLDatabaseToolkit(db=db, llm=llm)\n",
    "\n",
    "tools = toolkit.get_tools()\n",
    "\n",
    "for tool in tools:\n",
    "    print(f\"{tool.name}: {tool.description}\\n\")"
   ]
  },
  {
   "cell_type": "code",
   "execution_count": 5,
   "id": "f6c08649",
   "metadata": {},
   "outputs": [],
   "source": [
    "get_schema_tool = next(tool for tool in tools if tool.name == \"sql_db_schema\")\n",
    "run_query_tool = next(tool for tool in tools if tool.name == \"sql_db_query\")\n",
    "sql_db_list_tables_tool = next(tool for tool in tools if tool.name == \"sql_db_list_tables\")"
   ]
  },
  {
   "cell_type": "code",
   "execution_count": 6,
   "id": "114af6f7",
   "metadata": {},
   "outputs": [],
   "source": [
    "from typing import Annotated, TypedDict\n",
    "from vinagent.graph.operator import FlowStateGraph, END, START\n",
    "from vinagent.graph.node import Node\n",
    "from langgraph.checkpoint.memory import MemorySaver\n",
    "from langgraph.utils.runnable import coerce_to_runnable\n",
    "from langgraph.graph import MessagesState\n",
    "from typing import Literal\n",
    "from langchain_core.messages import AIMessage, ToolMessage, HumanMessage\n",
    "from langchain_core.runnables import RunnableConfig"
   ]
  },
  {
   "cell_type": "code",
   "execution_count": 7,
   "id": "ac753b32",
   "metadata": {},
   "outputs": [],
   "source": [
    "class ListTablesNode(Node):\n",
    "    def exec(self, state: MessagesState) -> dict:\n",
    "        tool_call = {\n",
    "            \"name\": \"sql_db_list_tables\",\n",
    "            \"args\": {},\n",
    "            \"id\": \"abc123\",\n",
    "            \"type\": \"tool_call\",\n",
    "        }\n",
    "        \n",
    "        list_tables_tool = sql_db_list_tables_tool\n",
    "        tool_message = list_tables_tool.invoke(tool_call)\n",
    "        response = AIMessage(f\"Available tables: {tool_message.content}\")\n",
    "        return {\"messages\": [response]}"
   ]
  },
  {
   "cell_type": "markdown",
   "id": "3297a5ef",
   "metadata": {},
   "source": [
    "Not all tables will be selected to proceed with the user query, therefore, the next node will filter which tables are neccessary."
   ]
  },
  {
   "cell_type": "code",
   "execution_count": 8,
   "id": "9c9611a2",
   "metadata": {},
   "outputs": [],
   "source": [
    "class CallGetSchemaNode(Node):    \n",
    "    def exec(self, state: MessagesState) -> dict:\n",
    "        llm_with_tools = llm.bind_tools([get_schema_tool], tool_choice=\"any\")\n",
    "        response = llm_with_tools.invoke(state[\"messages\"])\n",
    "        return {\"messages\": [response]}"
   ]
  },
  {
   "cell_type": "markdown",
   "id": "6ba18796",
   "metadata": {},
   "source": [
    "Let's extract a list of such table schemas with relevant records as an additional context for SQL query generation."
   ]
  },
  {
   "cell_type": "code",
   "execution_count": 9,
   "id": "77dcdd3a",
   "metadata": {},
   "outputs": [],
   "source": [
    "class GetSchemaNode(Node):\n",
    "    def exec(self, state: MessagesState) -> dict:\n",
    "        response = get_schema_tool.invoke(state['messages'][-1].tool_calls[0])\n",
    "        return {\"messages\": [response]}"
   ]
  },
  {
   "cell_type": "markdown",
   "id": "bcaa2f84",
   "metadata": {},
   "source": [
    "Based on user query and the extracted table schema context. We can generate the SQL query in the next node. There are two scenarios to run this pipeline:\n",
    "\n",
    "1. If the system have not yet reached the final result, let's generate an SQL query at the first round or correct the previous incorrect SQL query at the next rounds. Then, come to `check_query` node to verify the query validation.\n",
    "\n",
    "2. If the system has reached the final result, let's answer in natural language given the SQL table output. Then come to the `END` node."
   ]
  },
  {
   "cell_type": "code",
   "execution_count": 10,
   "id": "13143a5d",
   "metadata": {},
   "outputs": [],
   "source": [
    "generate_query_system_prompt = \"\"\"\n",
    "You are an agent designed to interact with a SQL database.\n",
    "Given an input question, create a syntactically correct {dialect} query to run\n",
    "then look at the results of the query and return the answer. Unless the user\n",
    "specifies a specific number of examples they wish to obtain, always limit your\n",
    "query to at most {top_k} results.\n",
    "\n",
    "You can order the results by a relevant column to return the most interesting\n",
    "examples in the database. Never query for all the columns from a specific table,\n",
    "only ask for the relevant columns given the question.\n",
    "\n",
    "DO NOT make any DML statements (INSERT, UPDATE, DELETE, DROP etc.) to the database.\n",
    "\"\"\".format(\n",
    "    dialect=db.dialect,\n",
    "    top_k=5,\n",
    ")\n",
    "\n",
    "generate_answer_system_prompt = \"Let's answer in natural format based on the SQL result.\""
   ]
  },
  {
   "cell_type": "code",
   "execution_count": 39,
   "id": "89f5657a",
   "metadata": {},
   "outputs": [],
   "source": [
    "class GenerateQueryNode(Node):\n",
    "    def exec(self, state: MessagesState) -> dict:\n",
    "        llm_with_tools = llm.bind_tools([run_query_tool])\n",
    "        last_message = state[\"messages\"][-1]\n",
    "        if (last_message.name == 'sql_db_query'):\n",
    "            system_message = {\n",
    "                \"role\": \"system\",\n",
    "                \"content\": generate_answer_system_prompt,\n",
    "            }\n",
    "            last_message = AIMessage(\n",
    "                content=last_message.content\n",
    "            )\n",
    "            response = llm.invoke([system_message] + state[\"messages\"] + [last_message])\n",
    "            return {\"messages\": [response]}\n",
    "        else:\n",
    "            system_message = {\n",
    "                \"role\": \"system\",\n",
    "                \"content\": generate_query_system_prompt,\n",
    "            }\n",
    "            response = llm_with_tools.invoke([system_message] + state[\"messages\"])\n",
    "            return {\"messages\": [response]}\n",
    "\n",
    "    def branching(self, state: MessagesState) -> str:\n",
    "        last_message = state[\"messages\"][-1]\n",
    "        if len(last_message.tool_calls) > 0:\n",
    "            return \"check_query\"\n",
    "        else:\n",
    "            return END"
   ]
  },
  {
   "cell_type": "markdown",
   "id": "61608c11",
   "metadata": {},
   "source": [
    "The next node presents a checking query step to ensure the correctness of generated SQL query. Otherwise, the incorrect execution can detain and slow down SQL execution engine."
   ]
  },
  {
   "cell_type": "code",
   "execution_count": 40,
   "id": "ee95a7e9",
   "metadata": {},
   "outputs": [],
   "source": [
    "check_query_system_prompt = \"\"\"\n",
    "You are a SQL expert with a strong attention to detail.\n",
    "Double check the {dialect} query for common mistakes, including:\n",
    "- Using NOT IN with NULL values\n",
    "- Using UNION when UNION ALL should have been used\n",
    "- Using BETWEEN for exclusive ranges\n",
    "- Data type mismatch in predicates\n",
    "- Properly quoting identifiers\n",
    "- Using the correct number of arguments for functions\n",
    "- Casting to the correct data type\n",
    "- Using the proper columns for joins\n",
    "\n",
    "If there are any of the above mistakes, rewrite the query. If there are no mistakes,\n",
    "just reproduce the original query.\n",
    "\n",
    "You will call the appropriate tool to execute the query after running this check.\n",
    "\"\"\".format(dialect=db.dialect)\n",
    "\n",
    "class CheckQueryNode(Node):\n",
    "    def exec(self, state: MessagesState) -> dict:\n",
    "        system_message = {\n",
    "            \"role\": \"system\",\n",
    "            \"content\": check_query_system_prompt,\n",
    "        }\n",
    "\n",
    "        # Generate an artificial user message to check\n",
    "        tool_call = state[\"messages\"][-1].tool_calls[0]\n",
    "        user_message = {\"role\": \"user\", \"content\": tool_call[\"args\"][\"query\"]}\n",
    "        llm_with_tools = llm.bind_tools([run_query_tool], tool_choice=\"any\")\n",
    "        response = llm_with_tools.invoke([system_message, user_message])\n",
    "        response.id = state[\"messages\"][-1].id\n",
    "        return {\"messages\": [response]}"
   ]
  },
  {
   "cell_type": "markdown",
   "id": "5dbbf186",
   "metadata": {},
   "source": [
    "Finally, we can run a query to get the result after the SQL query was confirmed valid."
   ]
  },
  {
   "cell_type": "code",
   "execution_count": 41,
   "id": "cc98bb70",
   "metadata": {},
   "outputs": [],
   "source": [
    "class RunQueryNode(Node):\n",
    "    def exec(self, state: MessagesState) -> dict:\n",
    "        response = run_query_tool.invoke(state['messages'][-1].tool_calls[0])\n",
    "        return {\"messages\": [response]}"
   ]
  },
  {
   "cell_type": "markdown",
   "id": "17c88185",
   "metadata": {},
   "source": [
    "## Banking and Finance Agent\n",
    "\n",
    "In this step, we will generate an AI Agent which orchestrates all nodes into a working flow for text-2-sql task. Let's see how this Agent undestand the database schemas and relationships to provide a precise answer for each query related to banking and finance domain. The main pipeline is initialized by [FlowStateGraph](https://datascienceworld-kan.github.io/vinagent/get_started/workflow_and_agent/#flowstategraph)"
   ]
  },
  {
   "cell_type": "code",
   "execution_count": null,
   "id": "2eb5cb1a",
   "metadata": {},
   "outputs": [
    {
     "name": "stderr",
     "output_type": "stream",
     "text": [
      "INFO:httpx:HTTP Request: POST https://api.openai.com/v1/chat/completions \"HTTP/1.1 200 OK\"\n",
      "INFO:httpx:HTTP Request: POST https://api.openai.com/v1/chat/completions \"HTTP/1.1 200 OK\"\n",
      "INFO:httpx:HTTP Request: POST https://api.openai.com/v1/chat/completions \"HTTP/1.1 200 OK\"\n",
      "INFO:httpx:HTTP Request: POST https://api.openai.com/v1/chat/completions \"HTTP/1.1 200 OK\"\n"
     ]
    },
    {
     "data": {
      "text/plain": [
       "{'messages': [HumanMessage(content='What is the customer has the highest total balance?', additional_kwargs={}, response_metadata={}, id='1cea8369-1a17-4cd0-a705-502882989d36'),\n",
       "  AIMessage(content='Available tables: Account, Beneficiary, Customer, Deposit, Loan, Transactions', additional_kwargs={}, response_metadata={}, id='9330d0f9-4651-4af3-ab80-e642dd339cde'),\n",
       "  AIMessage(content='', additional_kwargs={'tool_calls': [{'id': 'call_rBf4AblJ3EkPrS1NPAGQb9hi', 'function': {'arguments': '{\"table_names\":\"Customer, Account\"}', 'name': 'sql_db_schema'}, 'type': 'function'}], 'refusal': None}, response_metadata={'token_usage': {'completion_tokens': 283, 'prompt_tokens': 149, 'total_tokens': 432, 'completion_tokens_details': {'accepted_prediction_tokens': 0, 'audio_tokens': 0, 'reasoning_tokens': 256, 'rejected_prediction_tokens': 0}, 'prompt_tokens_details': {'audio_tokens': 0, 'cached_tokens': 0}}, 'model_name': 'o4-mini-2025-04-16', 'system_fingerprint': None, 'finish_reason': 'tool_calls', 'logprobs': None}, id='run--b5277bfc-89f3-4b6e-828f-9434d48517ce-0', tool_calls=[{'name': 'sql_db_schema', 'args': {'table_names': 'Customer, Account'}, 'id': 'call_rBf4AblJ3EkPrS1NPAGQb9hi', 'type': 'tool_call'}], usage_metadata={'input_tokens': 149, 'output_tokens': 283, 'total_tokens': 432, 'input_token_details': {'audio': 0, 'cache_read': 0}, 'output_token_details': {'audio': 0, 'reasoning': 256}}),\n",
       "  ToolMessage(content='\\nCREATE TABLE \"Account\" (\\n\\t\"AccountID\" INTEGER, \\n\\t\"CustomerID\" INTEGER, \\n\\t\"ProductType\" VARCHAR(50), \\n\\t\"ProductCategory\" VARCHAR(50), \\n\\t\"Balance\" DECIMAL(15, 2) NOT NULL, \\n\\tPRIMARY KEY (\"AccountID\"), \\n\\tFOREIGN KEY(\"CustomerID\") REFERENCES \"Customer\" (\"CustomerID\")\\n)\\n\\n/*\\n3 rows from Account table:\\nAccountID\\tCustomerID\\tProductType\\tProductCategory\\tBalance\\n101\\t1\\tSavings Account\\tDeposit Account\\t12000.00\\n102\\t2\\tCurrent Account\\tDeposit Account\\t11500.00\\n103\\t3\\tCredit\\tCredit Account\\t9500.00\\n*/\\n\\n\\nCREATE TABLE \"Customer\" (\\n\\t\"CustomerID\" INTEGER, \\n\\t\"Name\" VARCHAR(100) NOT NULL, \\n\\t\"Address\" VARCHAR(255), \\n\\t\"Contact\" VARCHAR(50), \\n\\t\"Username\" VARCHAR(50) NOT NULL, \\n\\t\"Password\" VARCHAR(255) NOT NULL, \\n\\tPRIMARY KEY (\"CustomerID\")\\n)\\n\\n/*\\n3 rows from Customer table:\\nCustomerID\\tName\\tAddress\\tContact\\tUsername\\tPassword\\n1\\tJohn Doe\\t123 Main St, Springfield, IL 62701\\t555-0101\\tjohndoe\\thashed_password1\\n2\\tJane Smith\\t456 Oak Ave, Boulder, CO 80302\\t555-0102\\tjanesmith\\thashed_password2\\n3\\tAlice Johnson\\t789 Pine Rd, Asheville, NC 28801\\t555-0103\\talicej\\thashed_password3\\n*/', name='sql_db_schema', id='2e75a524-993b-4c7f-81a8-1183876cf2b3', tool_call_id='call_rBf4AblJ3EkPrS1NPAGQb9hi'),\n",
       "  AIMessage(content='', additional_kwargs={'tool_calls': [{'id': 'call_BvV3O0u4gqsUaA1HRfHK4wtJ', 'function': {'arguments': '{\"query\":\"SELECT c.CustomerID, c.Name, SUM(a.Balance) AS total_balance \\\\nFROM Account a \\\\nJOIN Customer c ON a.CustomerID = c.CustomerID \\\\nGROUP BY c.CustomerID, c.Name \\\\nORDER BY total_balance DESC \\\\nLIMIT 1;\"}', 'name': 'sql_db_query'}, 'type': 'function'}], 'refusal': None}, response_metadata={'token_usage': {'completion_tokens': 784, 'prompt_tokens': 305, 'total_tokens': 1089, 'completion_tokens_details': {'accepted_prediction_tokens': 0, 'audio_tokens': 0, 'reasoning_tokens': 704, 'rejected_prediction_tokens': 0}, 'prompt_tokens_details': {'audio_tokens': 0, 'cached_tokens': 0}}, 'model_name': 'o4-mini-2025-04-16', 'system_fingerprint': None, 'finish_reason': 'tool_calls', 'logprobs': None}, id='run--84a231f1-0355-4557-8765-31e8af980f77-0', tool_calls=[{'name': 'sql_db_query', 'args': {'query': 'SELECT c.CustomerID, c.Name, SUM(a.Balance) AS total_balance \\nFROM Account a \\nJOIN Customer c ON a.CustomerID = c.CustomerID \\nGROUP BY c.CustomerID, c.Name \\nORDER BY total_balance DESC \\nLIMIT 1;'}, 'id': 'call_BvV3O0u4gqsUaA1HRfHK4wtJ', 'type': 'tool_call'}], usage_metadata={'input_tokens': 305, 'output_tokens': 784, 'total_tokens': 1089, 'input_token_details': {'audio': 0, 'cache_read': 0}, 'output_token_details': {'audio': 0, 'reasoning': 704}}),\n",
       "  ToolMessage(content=\"[(55, 'Caleb Price', 25000)]\", name='sql_db_query', id='2536a5fa-59cf-4003-8fcb-481f5d0da82d', tool_call_id='call_BvV3O0u4gqsUaA1HRfHK4wtJ'),\n",
       "  AIMessage(content='The customer with the highest total balance is:\\n\\n• CustomerID: 55  \\n• Name: Caleb Price  \\n• Total Balance: 25,000.00', additional_kwargs={'refusal': None}, response_metadata={'token_usage': {'completion_tokens': 306, 'prompt_tokens': 531, 'total_tokens': 837, 'completion_tokens_details': {'accepted_prediction_tokens': 0, 'audio_tokens': 0, 'reasoning_tokens': 256, 'rejected_prediction_tokens': 0}, 'prompt_tokens_details': {'audio_tokens': 0, 'cached_tokens': 0}}, 'model_name': 'o4-mini-2025-04-16', 'system_fingerprint': None, 'finish_reason': 'stop', 'logprobs': None}, id='run--6f4f741c-932c-4fff-af2e-3ff5aaa7307a-0', usage_metadata={'input_tokens': 531, 'output_tokens': 306, 'total_tokens': 837, 'input_token_details': {'audio': 0, 'cache_read': 0}, 'output_token_details': {'audio': 0, 'reasoning': 256}})]}"
      ]
     },
     "execution_count": 42,
     "metadata": {},
     "output_type": "execute_result"
    }
   ],
   "source": [
    "from typing import TypedDict\n",
    "from langgraph.checkpoint.memory import MemorySaver\n",
    "from typing import Iterator\n",
    "from langgraph.graph import MessagesState\n",
    "\n",
    "# This configuration states the user_id. Therefore, it will remember who is chatting with Agent.\n",
    "class ConfigSchema(TypedDict):\n",
    "    user_id: str\n",
    "\n",
    "class Agent:\n",
    "    def __init__(self):\n",
    "        self.checkpoint = MemorySaver()\n",
    "        self.graph = FlowStateGraph(state_schema=MessagesState, config_schema=ConfigSchema)\n",
    "        self.list_tables_node = ListTablesNode()\n",
    "        self.call_get_schema_node = CallGetSchemaNode()\n",
    "        self.get_schema_node = GetSchemaNode()\n",
    "        self.generate_query_node = GenerateQueryNode()\n",
    "        self.check_query_node = CheckQueryNode()\n",
    "        self.run_query_node = RunQueryNode()\n",
    "\n",
    "        self.flow = [\n",
    "            self.list_tables_node >> self.call_get_schema_node,\n",
    "            self.call_get_schema_node >> self.get_schema_node,\n",
    "            self.get_schema_node >> self.generate_query_node,\n",
    "            self.generate_query_node >> {\n",
    "                \"__end__\": END, # For branching with END and START node, you only set key is __end__ and __start__\n",
    "                \"check_query\": self.check_query_node\n",
    "            },\n",
    "            self.check_query_node >> self.run_query_node,\n",
    "            self.run_query_node >> self.generate_query_node  # Loop back for multiple interactions\n",
    "        ]\n",
    "\n",
    "        self.compiled_graph = self.graph.compile(checkpointer=self.checkpoint, flow=self.flow)\n",
    "\n",
    "    def invoke(self, input_state: dict, config: dict) -> dict:\n",
    "        return self.compiled_graph.invoke(input_state, config)\n",
    "\n",
    "    def stream(self, input_state: dict, config: dict, **kwargs) -> Iterator[dict]:\n",
    "        stream_mode = kwargs.get(\"stream_mode\", \"values\")\n",
    "            \n",
    "        for state in self.compiled_graph.stream(input_state, config, stream_mode=stream_mode):\n",
    "            if \"messages\" in state and state[\"messages\"]:\n",
    "                yield state\n",
    "            else:\n",
    "                continue\n",
    "\n",
    "\n",
    "\n",
    "# Initialize input_state with the input question and thread config\n",
    "question = \"What is the customer has the highest total balance?\"\n",
    "input_state = {\n",
    "    \"messages\": [{\"role\": \"user\", \"content\": question}]\n",
    "}\n",
    "config = {\"configurable\": {\"user_id\": \"123\"}, \"thread_id\": \"123\"}\n",
    "\n",
    "# # Initialize agent and involve\n",
    "agent = Agent()\n",
    "result = agent.invoke(input_state=input_state, config=config)"
   ]
  },
  {
   "cell_type": "code",
   "execution_count": null,
   "id": "fedf1c9b",
   "metadata": {},
   "outputs": [
    {
     "name": "stdout",
     "output_type": "stream",
     "text": [
      "================================\u001b[1m Human Message \u001b[0m=================================\n",
      "\n",
      "What is the customer has the highest total balance?\n",
      "==================================\u001b[1m Ai Message \u001b[0m==================================\n",
      "\n",
      "Available tables: Account, Beneficiary, Customer, Deposit, Loan, Transactions\n",
      "==================================\u001b[1m Ai Message \u001b[0m==================================\n",
      "Tool Calls:\n",
      "  sql_db_schema (call_uhDBc4fqf9NFjlSeUC7pK4jp)\n",
      " Call ID: call_uhDBc4fqf9NFjlSeUC7pK4jp\n",
      "  Args:\n",
      "    table_names: Account, Customer\n",
      "=================================\u001b[1m Tool Message \u001b[0m=================================\n",
      "Name: sql_db_schema\n",
      "\n",
      "\n",
      "CREATE TABLE \"Account\" (\n",
      "\t\"AccountID\" INTEGER, \n",
      "\t\"CustomerID\" INTEGER, \n",
      "\t\"ProductType\" VARCHAR(50), \n",
      "\t\"ProductCategory\" VARCHAR(50), \n",
      "\t\"Balance\" DECIMAL(15, 2) NOT NULL, \n",
      "\tPRIMARY KEY (\"AccountID\"), \n",
      "\tFOREIGN KEY(\"CustomerID\") REFERENCES \"Customer\" (\"CustomerID\")\n",
      ")\n",
      "\n",
      "/*\n",
      "3 rows from Account table:\n",
      "AccountID\tCustomerID\tProductType\tProductCategory\tBalance\n",
      "101\t1\tSavings Account\tDeposit Account\t12000.00\n",
      "102\t2\tCurrent Account\tDeposit Account\t11500.00\n",
      "103\t3\tCredit\tCredit Account\t9500.00\n",
      "*/\n",
      "\n",
      "\n",
      "CREATE TABLE \"Customer\" (\n",
      "\t\"CustomerID\" INTEGER, \n",
      "\t\"Name\" VARCHAR(100) NOT NULL, \n",
      "\t\"Address\" VARCHAR(255), \n",
      "\t\"Contact\" VARCHAR(50), \n",
      "\t\"Username\" VARCHAR(50) NOT NULL, \n",
      "\t\"Password\" VARCHAR(255) NOT NULL, \n",
      "\tPRIMARY KEY (\"CustomerID\")\n",
      ")\n",
      "\n",
      "/*\n",
      "3 rows from Customer table:\n",
      "CustomerID\tName\tAddress\tContact\tUsername\tPassword\n",
      "1\tJohn Doe\t123 Main St, Springfield, IL 62701\t555-0101\tjohndoe\thashed_password1\n",
      "2\tJane Smith\t456 Oak Ave, Boulder, CO 80302\t555-0102\tjanesmith\thashed_password2\n",
      "3\tAlice Johnson\t789 Pine Rd, Asheville, NC 28801\t555-0103\talicej\thashed_password3\n",
      "*/\n",
      "==================================\u001b[1m Ai Message \u001b[0m==================================\n",
      "Tool Calls:\n",
      "  sql_db_query (call_uvBiRWOGNQCrpmCUfoe4mBWC)\n",
      " Call ID: call_uvBiRWOGNQCrpmCUfoe4mBWC\n",
      "  Args:\n",
      "    query: SELECT c.CustomerID, c.Name, SUM(a.Balance) AS TotalBalance\n",
      "FROM Account a\n",
      "JOIN Customer c ON a.CustomerID = c.CustomerID\n",
      "GROUP BY c.CustomerID, c.Name\n",
      "ORDER BY TotalBalance DESC\n",
      "LIMIT 1;\n",
      "=================================\u001b[1m Tool Message \u001b[0m=================================\n",
      "Name: sql_db_query\n",
      "\n",
      "[(55, 'Caleb Price', 25000)]\n",
      "==================================\u001b[1m Ai Message \u001b[0m==================================\n",
      "\n",
      "The customer with the highest total balance is:  \n",
      "• Customer ID: 55  \n",
      "• Name: Caleb Price  \n",
      "• Total Balance: 25,000\n"
     ]
    }
   ],
   "source": [
    "for message in result['messages']:\n",
    "    message.pretty_print()"
   ]
  },
  {
   "cell_type": "code",
   "execution_count": null,
   "id": "c899f737",
   "metadata": {},
   "outputs": [],
   "source": [
    "agent.compiled_graph"
   ]
  },
  {
   "cell_type": "markdown",
   "id": "f9569ebf",
   "metadata": {},
   "source": [
    "![](https://raw.githubusercontent.com/datascienceworld-kan/vinagent/refs/heads/main/docs/docs/get_started/images/bank_agent.png)"
   ]
  },
  {
   "cell_type": "markdown",
   "id": "895a24df",
   "metadata": {},
   "source": [
    "## Vinagent Agent with Workflow\n",
    "\n",
    "Vinagent agent allows to integrate working flow as an attribute. To initialize agent, you just need to state three attributes:\n",
    "\n",
    "- flow: a list of routes demonstates the working flow. Each route presents a strateforward route `start_node >> end_node` or a conditional route `start_node >> {'a': node_a, 'b': node_b}`, which will define the next node given the return result of `start_node`.\n",
    "\n",
    "- state_schema: Define the state storage for agent workflow. This will save all intermediate messages which is returned at each node to access them after the graph execution is finished. By default, the state_schema is `langgraph.graph.MessageState`.\n",
    "\n",
    "- config_schema: Define a config schema which pass before the workflow triggering to manage the `thread_id` and `user_id` the agent is chatting with."
   ]
  },
  {
   "cell_type": "code",
   "execution_count": 49,
   "id": "00abde82",
   "metadata": {},
   "outputs": [],
   "source": [
    "from langgraph.graph import MessagesState\n",
    "from vinagent.agent import Agent\n",
    "\n",
    "class ConfigSchema(TypedDict):\n",
    "    user_id: str\n",
    "\n",
    "list_tables_node = ListTablesNode()\n",
    "call_get_schema_node = CallGetSchemaNode()\n",
    "get_schema_node = GetSchemaNode()\n",
    "generate_query_node = GenerateQueryNode()\n",
    "check_query_node = CheckQueryNode()\n",
    "run_query_node = RunQueryNode()\n",
    "from langgraph.graph import MessagesState\n",
    "from vinagent.agent import Agent\n",
    "\n",
    "class ConfigSchema(TypedDict):\n",
    "    user_id: str\n",
    "\n",
    "\n",
    "def initialize_bank_agent():\n",
    "    list_tables_node = ListTablesNode()\n",
    "    call_get_schema_node = CallGetSchemaNode()\n",
    "    get_schema_node = GetSchemaNode()\n",
    "    generate_query_node = GenerateQueryNode()\n",
    "    check_query_node = CheckQueryNode()\n",
    "    run_query_node = RunQueryNode()\n",
    "\n",
    "    agent = Agent(\n",
    "        llm = llm,\n",
    "        checkpoint = MemorySaver(),\n",
    "        flow = [\n",
    "            list_tables_node >> call_get_schema_node,\n",
    "            call_get_schema_node >> get_schema_node,\n",
    "            get_schema_node >> generate_query_node,\n",
    "            generate_query_node >> {\n",
    "                \"__end__\": END, # For branching with END and START node, you only set key is __end__ and __start__\n",
    "                \"check_query\": check_query_node\n",
    "            },\n",
    "            check_query_node >> run_query_node,\n",
    "            run_query_node >> generate_query_node  # Loop back for multiple interactions\n",
    "        ],\n",
    "        state_schema = MessagesState,\n",
    "        config_schema = ConfigSchema,\n",
    "    )\n",
    "    return agent\n",
    "\n",
    "bank_agent = initialize_bank_agent()"
   ]
  },
  {
   "cell_type": "code",
   "execution_count": 50,
   "id": "c29ef208",
   "metadata": {},
   "outputs": [
    {
     "name": "stderr",
     "output_type": "stream",
     "text": [
      "INFO:vinagent.agent.agent:No authentication card provided, skipping authentication\n",
      "INFO:vinagent.agent.agent:I'am chatting with unknown_user\n",
      "INFO:httpx:HTTP Request: POST https://api.openai.com/v1/chat/completions \"HTTP/1.1 200 OK\"\n",
      "INFO:httpx:HTTP Request: POST https://api.openai.com/v1/chat/completions \"HTTP/1.1 200 OK\"\n",
      "INFO:httpx:HTTP Request: POST https://api.openai.com/v1/chat/completions \"HTTP/1.1 200 OK\"\n",
      "INFO:httpx:HTTP Request: POST https://api.openai.com/v1/chat/completions \"HTTP/1.1 200 OK\"\n"
     ]
    },
    {
     "data": {
      "text/plain": [
       "{'messages': [HumanMessage(content='Who has the highest total loan balance?', additional_kwargs={}, response_metadata={}, id='6df9138a-f85c-4cff-830e-108fb8ef4ae2'),\n",
       "  AIMessage(content='Available tables: Account, Beneficiary, Customer, Deposit, Loan, Transactions', additional_kwargs={}, response_metadata={}, id='6b809f0c-28d4-481f-a6e9-337558acec7e'),\n",
       "  AIMessage(content='', additional_kwargs={'tool_calls': [{'id': 'call_a6HaoPQAjkolWeEytljDwoj0', 'function': {'arguments': '{\"table_names\":\"Loan, Customer\"}', 'name': 'sql_db_schema'}, 'type': 'function'}], 'refusal': None}, response_metadata={'token_usage': {'completion_tokens': 219, 'prompt_tokens': 147, 'total_tokens': 366, 'completion_tokens_details': {'accepted_prediction_tokens': 0, 'audio_tokens': 0, 'reasoning_tokens': 192, 'rejected_prediction_tokens': 0}, 'prompt_tokens_details': {'audio_tokens': 0, 'cached_tokens': 0}}, 'model_name': 'o4-mini-2025-04-16', 'system_fingerprint': None, 'finish_reason': 'tool_calls', 'logprobs': None}, id='run--d76daa01-1330-488b-9fa6-4f219eabde7c-0', tool_calls=[{'name': 'sql_db_schema', 'args': {'table_names': 'Loan, Customer'}, 'id': 'call_a6HaoPQAjkolWeEytljDwoj0', 'type': 'tool_call'}], usage_metadata={'input_tokens': 147, 'output_tokens': 219, 'total_tokens': 366, 'input_token_details': {'audio': 0, 'cache_read': 0}, 'output_token_details': {'audio': 0, 'reasoning': 192}}),\n",
       "  ToolMessage(content='\\nCREATE TABLE \"Customer\" (\\n\\t\"CustomerID\" INTEGER, \\n\\t\"Name\" VARCHAR(100) NOT NULL, \\n\\t\"Address\" VARCHAR(255), \\n\\t\"Contact\" VARCHAR(50), \\n\\t\"Username\" VARCHAR(50) NOT NULL, \\n\\t\"Password\" VARCHAR(255) NOT NULL, \\n\\tPRIMARY KEY (\"CustomerID\")\\n)\\n\\n/*\\n3 rows from Customer table:\\nCustomerID\\tName\\tAddress\\tContact\\tUsername\\tPassword\\n1\\tJohn Doe\\t123 Main St, Springfield, IL 62701\\t555-0101\\tjohndoe\\thashed_password1\\n2\\tJane Smith\\t456 Oak Ave, Boulder, CO 80302\\t555-0102\\tjanesmith\\thashed_password2\\n3\\tAlice Johnson\\t789 Pine Rd, Asheville, NC 28801\\t555-0103\\talicej\\thashed_password3\\n*/\\n\\n\\nCREATE TABLE \"Loan\" (\\n\\t\"LoanID\" VARCHAR(50), \\n\\t\"CustomerID\" INTEGER, \\n\\t\"ProductType\" VARCHAR(50), \\n\\t\"ProductCategory\" VARCHAR(50), \\n\\t\"Balance\" DECIMAL(15, 2) NOT NULL, \\n\\t\"Term\" VARCHAR(50) NOT NULL, \\n\\tPRIMARY KEY (\"LoanID\"), \\n\\tFOREIGN KEY(\"CustomerID\") REFERENCES \"Customer\" (\"CustomerID\")\\n)\\n\\n/*\\n3 rows from Loan table:\\nLoanID\\tCustomerID\\tProductType\\tProductCategory\\tBalance\\tTerm\\nLN10000124\\t4\\tSecured Loan\\tHome Loan\\t-15000.00\\t10Y\\nLN10000125\\t5\\tSecured Loan\\tCar Loan\\t-8000.00\\t5Y\\nLN10000127\\t7\\tUnsecured Loan\\tHome Repair\\t-5000.00\\t24M\\n*/', name='sql_db_schema', id='1bc3b7c7-2576-445e-b385-f028173f2520', tool_call_id='call_a6HaoPQAjkolWeEytljDwoj0'),\n",
       "  AIMessage(content='', additional_kwargs={'tool_calls': [{'id': 'call_AuaYpPbVVHOwKJRd5uc80rc5', 'function': {'arguments': '{\"query\":\"SELECT c.Name, ABS(SUM(l.Balance)) AS TotalLoanBalance\\\\nFROM Loan l\\\\nJOIN Customer c ON l.CustomerID = c.CustomerID\\\\nGROUP BY c.CustomerID, c.Name\\\\nORDER BY TotalLoanBalance DESC\\\\nLIMIT 1;\"}', 'name': 'sql_db_query'}, 'type': 'function'}], 'refusal': None}, response_metadata={'token_usage': {'completion_tokens': 267, 'prompt_tokens': 308, 'total_tokens': 575, 'completion_tokens_details': {'accepted_prediction_tokens': 0, 'audio_tokens': 0, 'reasoning_tokens': 192, 'rejected_prediction_tokens': 0}, 'prompt_tokens_details': {'audio_tokens': 0, 'cached_tokens': 0}}, 'model_name': 'o4-mini-2025-04-16', 'system_fingerprint': None, 'finish_reason': 'tool_calls', 'logprobs': None}, id='run--227c2d6d-6ad0-4b20-ac29-e7046a51fdce-0', tool_calls=[{'name': 'sql_db_query', 'args': {'query': 'SELECT c.Name, ABS(SUM(l.Balance)) AS TotalLoanBalance\\nFROM Loan l\\nJOIN Customer c ON l.CustomerID = c.CustomerID\\nGROUP BY c.CustomerID, c.Name\\nORDER BY TotalLoanBalance DESC\\nLIMIT 1;'}, 'id': 'call_AuaYpPbVVHOwKJRd5uc80rc5', 'type': 'tool_call'}], usage_metadata={'input_tokens': 308, 'output_tokens': 267, 'total_tokens': 575, 'input_token_details': {'audio': 0, 'cache_read': 0}, 'output_token_details': {'audio': 0, 'reasoning': 192}}),\n",
       "  ToolMessage(content=\"[('William Wilson', 35000)]\", name='sql_db_query', id='3ce53e05-df84-41e4-bd93-0a22ff7c3fd7', tool_call_id='call_AuaYpPbVVHOwKJRd5uc80rc5'),\n",
       "  AIMessage(content='William Wilson has the highest total loan balance, with a balance of \\\\$35,000.', additional_kwargs={'refusal': None}, response_metadata={'token_usage': {'completion_tokens': 228, 'prompt_tokens': 559, 'total_tokens': 787, 'completion_tokens_details': {'accepted_prediction_tokens': 0, 'audio_tokens': 0, 'reasoning_tokens': 192, 'rejected_prediction_tokens': 0}, 'prompt_tokens_details': {'audio_tokens': 0, 'cached_tokens': 0}}, 'model_name': 'o4-mini-2025-04-16', 'system_fingerprint': None, 'finish_reason': 'stop', 'logprobs': None}, id='run--d4cae7e7-c4d1-48be-9efe-40dfe0513413-0', usage_metadata={'input_tokens': 559, 'output_tokens': 228, 'total_tokens': 787, 'input_token_details': {'audio': 0, 'cache_read': 0}, 'output_token_details': {'audio': 0, 'reasoning': 192}})]}"
      ]
     },
     "execution_count": 50,
     "metadata": {},
     "output_type": "execute_result"
    }
   ],
   "source": [
    "question = \"Who has the highest total loan balance?\"\n",
    "result = bank_agent.invoke(query=question)\n",
    "result"
   ]
  },
  {
   "cell_type": "markdown",
   "id": "7bf0db29",
   "metadata": {},
   "source": [
    "With the long-running task like text-2-SQL, we should use asynchronous invoking to save the execution time as the following `ainvoke`."
   ]
  },
  {
   "cell_type": "code",
   "execution_count": null,
   "id": "0b0cccd3",
   "metadata": {},
   "outputs": [],
   "source": [
    "question = \"Who has the highest total loan balance?\"\n",
    "config = {\"configurable\": {\"user_id\": \"123\"}, \"thread_id\": \"123\"}\n",
    "\n",
    "result = await bank_agent.ainvoke(query=question, config=config)\n",
    "for message in result['messages']:\n",
    "    print(message)"
   ]
  },
  {
   "cell_type": "markdown",
   "id": "0da2fced",
   "metadata": {},
   "source": [
    "Note: This `ainvoke` code is only suitable to run on Jupyter Notebook, where already exist asynchronous code in its cells. However, if you run on python module. You should cover your asynchronous method inside a `asyncio.run()` method."
   ]
  },
  {
   "cell_type": "code",
   "execution_count": null,
   "id": "8d5656dc",
   "metadata": {},
   "outputs": [],
   "source": [
    "import asyncio\n",
    "\n",
    "question = \"Who has the highest total loan balance?\"\n",
    "config = {\"configurable\": {\"user_id\": \"123\"}, \"thread_id\": \"123\"}\n",
    "\n",
    "async def main():\n",
    "    result = await bank_agent.ainvoke(query=question, config=config)\n",
    "    return result\n",
    "\n",
    "result = asyncio.run(main())\n",
    "result"
   ]
  },
  {
   "cell_type": "markdown",
   "id": "a7def6fa",
   "metadata": {},
   "source": [
    "Or you can run under streaming mode, which facilitate to track and debug the intermedidate messages."
   ]
  },
  {
   "cell_type": "code",
   "execution_count": null,
   "id": "6e5e0b34",
   "metadata": {},
   "outputs": [],
   "source": [
    "question = \"Who has the highest total loan balance?\"\n",
    "config = {\"configurable\": {\"user_id\": \"123\"}, \"thread_id\": \"123\"}\n",
    "\n",
    "for state in bank_agent.stream(query=question, config=config):\n",
    "    if 'messages' in state:\n",
    "        print(state['messages'])\n",
    "    else:\n",
    "        print(state)"
   ]
  },
  {
   "cell_type": "markdown",
   "id": "61903dd5",
   "metadata": {},
   "source": [
    "# Test usercases\n",
    "\n",
    "This section, we will test the banking agent across different use cases, starting with simple queries on a single table and progressing to more complex queries involving multiple tables."
   ]
  },
  {
   "cell_type": "markdown",
   "id": "a7c106e6",
   "metadata": {},
   "source": [
    "## Usercase 1 - Find transaction history"
   ]
  },
  {
   "cell_type": "code",
   "execution_count": 44,
   "id": "8cb1c2e5",
   "metadata": {},
   "outputs": [
    {
     "name": "stderr",
     "output_type": "stream",
     "text": [
      "INFO:vinagent.agent.agent:No authentication card provided, skipping authentication\n",
      "INFO:vinagent.agent.agent:I'am chatting with unknown_user\n",
      "INFO:httpx:HTTP Request: POST https://api.openai.com/v1/chat/completions \"HTTP/1.1 200 OK\"\n",
      "INFO:httpx:HTTP Request: POST https://api.openai.com/v1/chat/completions \"HTTP/1.1 200 OK\"\n",
      "INFO:httpx:HTTP Request: POST https://api.openai.com/v1/chat/completions \"HTTP/1.1 200 OK\"\n",
      "INFO:httpx:HTTP Request: POST https://api.openai.com/v1/chat/completions \"HTTP/1.1 200 OK\"\n"
     ]
    },
    {
     "name": "stdout",
     "output_type": "stream",
     "text": [
      "Here are the most recent transactions for John Doe (Account #101). Since only two are recorded, these are the latest:\n",
      "\n",
      "TransactionID | AccountID | Type       | Amount   | Timestamp  \n",
      "------------- | --------- | ---------- | -------- | -------------------  \n",
      "2             | 101       | Withdrawal | $500.00  | 2025-08-02 14:30:00  \n",
      "1             | 101       | Deposit    | $1,000.00| 2025-08-01 10:00:00\n"
     ]
    }
   ],
   "source": [
    "question = \"Show the last 5 transactions of customer John Doe?\"\n",
    "\n",
    "bank_agent = initialize_bank_agent()\n",
    "result = bank_agent.invoke(query=question)\n",
    "print(result['messages'][-1].content)"
   ]
  },
  {
   "cell_type": "markdown",
   "id": "476ace23",
   "metadata": {},
   "source": [
    "## Usercase 2 - Find customer have highest deposit balance"
   ]
  },
  {
   "cell_type": "code",
   "execution_count": 48,
   "id": "8bbcd742",
   "metadata": {},
   "outputs": [
    {
     "name": "stderr",
     "output_type": "stream",
     "text": [
      "INFO:vinagent.agent.agent:No authentication card provided, skipping authentication\n",
      "INFO:vinagent.agent.agent:I'am chatting with unknown_user\n",
      "INFO:httpx:HTTP Request: POST https://api.openai.com/v1/chat/completions \"HTTP/1.1 200 OK\"\n",
      "INFO:httpx:HTTP Request: POST https://api.openai.com/v1/chat/completions \"HTTP/1.1 200 OK\"\n",
      "INFO:httpx:HTTP Request: POST https://api.openai.com/v1/chat/completions \"HTTP/1.1 200 OK\"\n",
      "INFO:httpx:HTTP Request: POST https://api.openai.com/v1/chat/completions \"HTTP/1.1 200 OK\"\n"
     ]
    },
    {
     "name": "stdout",
     "output_type": "stream",
     "text": [
      "The customer with the highest total deposit balance is David Lee (CustomerID 10) with a total of 19,700.00.\n"
     ]
    }
   ],
   "source": [
    "question = \"Which customer has the highest total deposit balance?\"\n",
    "\n",
    "bank_agent = initialize_bank_agent()\n",
    "result = bank_agent.invoke(query=question)\n",
    "print(result['messages'][-1].content)"
   ]
  },
  {
   "cell_type": "markdown",
   "id": "8ee016ed",
   "metadata": {},
   "source": [
    "## Usercase 3 - Total loans, deposits, and accounts"
   ]
  },
  {
   "cell_type": "code",
   "execution_count": 47,
   "id": "ccca87ab",
   "metadata": {},
   "outputs": [
    {
     "name": "stderr",
     "output_type": "stream",
     "text": [
      "INFO:vinagent.agent.agent:No authentication card provided, skipping authentication\n",
      "INFO:vinagent.agent.agent:I'am chatting with unknown_user\n",
      "INFO:httpx:HTTP Request: POST https://api.openai.com/v1/chat/completions \"HTTP/1.1 200 OK\"\n",
      "INFO:httpx:HTTP Request: POST https://api.openai.com/v1/chat/completions \"HTTP/1.1 200 OK\"\n",
      "INFO:httpx:HTTP Request: POST https://api.openai.com/v1/chat/completions \"HTTP/1.1 200 OK\"\n",
      "INFO:httpx:HTTP Request: POST https://api.openai.com/v1/chat/completions \"HTTP/1.1 200 OK\"\n"
     ]
    },
    {
     "name": "stdout",
     "output_type": "stream",
     "text": [
      "Here’s the summary by product category:\n",
      "\n",
      "• Accounts  \n",
      "  – Number of accounts: 62  \n",
      "  – Total balance: 499,100\n",
      "\n",
      "• Deposits  \n",
      "  – Number of deposits: 128  \n",
      "  – Total balance: 600,700\n",
      "\n",
      "• Loans  \n",
      "  – Number of loans: 72  \n",
      "  – Total balance: –946,500\n"
     ]
    }
   ],
   "source": [
    "question = \"What is the total balance and number of loans, deposits, and accounts in the bank?\"\n",
    "\n",
    "bank_agent = initialize_bank_agent()\n",
    "result = bank_agent.invoke(query=question)\n",
    "print(result['messages'][-1].content)"
   ]
  },
  {
   "cell_type": "markdown",
   "id": "558d1f6a",
   "metadata": {},
   "source": [
    "## Usercase 4 - Find the total balance by products"
   ]
  },
  {
   "cell_type": "code",
   "execution_count": null,
   "id": "629105c9",
   "metadata": {},
   "outputs": [
    {
     "name": "stderr",
     "output_type": "stream",
     "text": [
      "INFO:vinagent.agent.agent:No authentication card provided, skipping authentication\n",
      "INFO:vinagent.agent.agent:I'am chatting with unknown_user\n",
      "INFO:httpx:HTTP Request: POST https://api.openai.com/v1/chat/completions \"HTTP/1.1 200 OK\"\n",
      "INFO:httpx:HTTP Request: POST https://api.openai.com/v1/chat/completions \"HTTP/1.1 200 OK\"\n",
      "INFO:httpx:HTTP Request: POST https://api.openai.com/v1/chat/completions \"HTTP/1.1 200 OK\"\n",
      "INFO:httpx:HTTP Request: POST https://api.openai.com/v1/chat/completions \"HTTP/1.1 200 OK\"\n"
     ]
    },
    {
     "name": "stdout",
     "output_type": "stream",
     "text": [
      "Here are the total loan balances, by product type:\n",
      "\n",
      "• Business Loan: –223 000  \n",
      "• Unsecured Loan: –239 500  \n",
      "• Secured Loan: –484 000\n"
     ]
    }
   ],
   "source": [
    "question = \"What are the total balance of loans by product types?\"\n",
    "\n",
    "bank_agent = initialize_bank_agent()\n",
    "result = bank_agent.invoke(query=question)\n",
    "print(result['messages'][-1].content)"
   ]
  },
  {
   "cell_type": "code",
   "execution_count": null,
   "id": "9658bbd5",
   "metadata": {},
   "outputs": [
    {
     "name": "stderr",
     "output_type": "stream",
     "text": [
      "INFO:vinagent.agent.agent:No authentication card provided, skipping authentication\n",
      "INFO:vinagent.agent.agent:I'am chatting with unknown_user\n",
      "INFO:httpx:HTTP Request: POST https://api.openai.com/v1/chat/completions \"HTTP/1.1 200 OK\"\n",
      "INFO:httpx:HTTP Request: POST https://api.openai.com/v1/chat/completions \"HTTP/1.1 200 OK\"\n",
      "INFO:httpx:HTTP Request: POST https://api.openai.com/v1/chat/completions \"HTTP/1.1 200 OK\"\n",
      "INFO:httpx:HTTP Request: POST https://api.openai.com/v1/chat/completions \"HTTP/1.1 200 OK\"\n"
     ]
    },
    {
     "name": "stdout",
     "output_type": "stream",
     "text": [
      "Here are the total outstanding loan balances, grouped by product category:\n",
      "\n",
      "• Home Repair: –84,500.00  \n",
      "• Studying Loan: –155,000.00  \n",
      "• Car Loan: –157,000.00  \n",
      "• Household Business: –223,000.00  \n",
      "• Home Loan: –327,000.00  \n",
      "\n",
      "(All balances are negative, reflecting amounts owed.)\n"
     ]
    }
   ],
   "source": [
    "question = \"What are the total balance of loans by product categories?\"\n",
    "\n",
    "result = bank_agent.invoke(query=question)\n",
    "print(result['messages'][-1].content)"
   ]
  },
  {
   "cell_type": "markdown",
   "id": "8fb783ca",
   "metadata": {},
   "source": [
    "## Usercase 5 - Accounts, deposits, and loans by customer - Join multiple tables"
   ]
  },
  {
   "cell_type": "code",
   "execution_count": null,
   "id": "ed835081",
   "metadata": {},
   "outputs": [],
   "source": [
    "question = \"What are total balance of accounts, loans, and deposits for each customer. Let's return a full table not limit rows?\"\n",
    "\n",
    "bank_agent = initialize_bank_agent()\n",
    "result = bank_agent.invoke(query=question)\n",
    "print(result['messages'][-1].content)"
   ]
  },
  {
   "cell_type": "markdown",
   "id": "809727dc",
   "metadata": {},
   "source": [
    "You can verify the original SQL query, which runs the output."
   ]
  },
  {
   "cell_type": "code",
   "execution_count": 72,
   "id": "4e6b497f",
   "metadata": {},
   "outputs": [
    {
     "name": "stdout",
     "output_type": "stream",
     "text": [
      "SELECT c.CustomerID, c.Name, \n",
      "       COALESCE(acc.total_balance,0) AS total_account_balance,\n",
      "       COALESCE(ln.total_balance,0) AS total_loan_balance,\n",
      "       COALESCE(dep.total_balance,0) AS total_deposit_balance\n",
      "FROM Customer AS c\n",
      "LEFT JOIN (\n",
      "  SELECT CustomerID, SUM(Balance) AS total_balance\n",
      "  FROM Account\n",
      "  GROUP BY CustomerID\n",
      ") AS acc ON c.CustomerID = acc.CustomerID\n",
      "LEFT JOIN (\n",
      "  SELECT CustomerID, SUM(Balance) AS total_balance\n",
      "  FROM Loan\n",
      "  GROUP BY CustomerID\n",
      ") AS ln ON c.CustomerID = ln.CustomerID\n",
      "LEFT JOIN (\n",
      "  SELECT CustomerID, SUM(Balance) AS total_balance\n",
      "  FROM Deposit\n",
      "  GROUP BY CustomerID\n",
      ") AS dep ON c.CustomerID = dep.CustomerID\n",
      "ORDER BY c.CustomerID;\n"
     ]
    }
   ],
   "source": [
    "print(result['messages'][-3].tool_calls[0]['args']['query'])"
   ]
  },
  {
   "cell_type": "markdown",
   "id": "a1046520",
   "metadata": {},
   "source": [
    "\n",
    "# Production Considerations\n",
    "## Security Best Practices\n",
    "\n",
    "- SQL Injection Prevention: You should have an [Authentication Layer](https://datascienceworld-kan.github.io/vinagent/get_started/authen_layer/) to prevent harmful SQL queries from invalid users.\n",
    "- Access Control: Implement user-based table access restrictions.\n",
    "- Audit Logging: Track all queries and results for compliance.\n",
    "- Data Masking: Sensitive fields should be masked in responses.\n",
    "\n",
    "## Performance Optimization\n",
    "\n",
    "- Database Indexing: Ensure proper indexes on frequently queried columns\n",
    "- Query Caching: Cache common query results to reduce database load\n",
    "- Connection Pooling: Use connection pools for high-throughput scenarios\n",
    "- Result Pagination: Implement pagination for large result sets\n",
    "\n",
    "# Conclusion: Transforming Banking Operations\n",
    "We've built a sophisticated banking agent that transforms natural language questions into actionable database insights. This agent offers several key advantages:\n",
    "\n",
    "**For Business Users:**\n",
    "\n",
    "- No SQL knowledge required\n",
    "- Instant answers to complex questions\n",
    "- Natural language interaction\n",
    "- Real-time data access\n",
    "\n",
    "**For IT Teams:**\n",
    "\n",
    "- Reduced manual query writing\n",
    "- Built-in security validations\n",
    "- Scalable architecture\n",
    "- Comprehensive audit trails\n",
    "\n",
    "**For Organizations:**\n",
    "\n",
    "- Faster decision-making\n",
    "- Improved operational efficiency\n",
    "- Better risk management\n",
    "- Enhanced customer service\n",
    "\n",
    "The agent we've built demonstrates how AI can bridge the gap between business needs and technical implementation, making data-driven decision-making accessible to everyone in a financial organization.\n",
    "Whether you're analyzing customer portfolios, monitoring transaction patterns, or assessing risk exposure, this Vinagent-powered solution provides the intelligence and speed modern banking demands."
   ]
  }
 ],
 "metadata": {
  "kernelspec": {
   "display_name": ".venv",
   "language": "python",
   "name": "python3"
  },
  "language_info": {
   "codemirror_mode": {
    "name": "ipython",
    "version": 3
   },
   "file_extension": ".py",
   "mimetype": "text/x-python",
   "name": "python",
   "nbconvert_exporter": "python",
   "pygments_lexer": "ipython3",
   "version": "3.10.10"
  }
 },
 "nbformat": 4,
 "nbformat_minor": 5
}
