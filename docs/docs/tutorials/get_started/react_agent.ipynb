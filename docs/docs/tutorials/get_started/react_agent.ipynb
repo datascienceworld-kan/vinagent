{
 "cells": [
  {
   "cell_type": "markdown",
   "id": "7421224d",
   "metadata": {},
   "source": [
    "# ReactAgent"
   ]
  },
  {
   "cell_type": "code",
   "execution_count": 1,
   "id": "fd46917e",
   "metadata": {},
   "outputs": [],
   "source": [
    "from typing_extensions import override\n",
    "from vinagent.agent.agent import Agent\n",
    "import json\n",
    "\n",
    "class ReactAgent(Agent):\n",
    "    @override\n",
    "    def prompt_template(\n",
    "        self, query: str, user_id: str = \"unknown_user\", *args, **kwargs\n",
    "    ) -> str:\n",
    "        try:\n",
    "            tools = json.loads(self.tools_path.read_text(encoding=\"utf-8\"))\n",
    "        except json.JSONDecodeError:\n",
    "            tools = {}\n",
    "            self.tools_path.write_text(json.dumps({}, indent=4), encoding=\"utf-8\")\n",
    "\n",
    "        memory = \"\"\n",
    "        if self.memory:\n",
    "            memory_content = self.memory.load_memory_by_user(\n",
    "                load_type=\"string\", user_id=user_id\n",
    "            )\n",
    "            if memory_content:\n",
    "                memory = f\"- Memory: {memory_content}\\n\"\n",
    "        else:\n",
    "            memory = \"- Memory: None\\n\"\n",
    "        tools = self.tools_manager.load_tools()\n",
    "        tool_names = list(tools.keys())\n",
    "        prompt = (\n",
    "            \"Answer the following questions as best you can. You have access to the following tools:\\n\"\n",
    "            f\"{tools}\\n\"\n",
    "            \"Let's consider to memory and user_id:\\n\"\n",
    "            f\"{memory}\\n\"\n",
    "            f\"- user_id: {user_id}\\n\"\n",
    "\n",
    "            \"Use the following format:\\n\"\n",
    "\n",
    "            \"Question: the input question you must answer\\n\"\n",
    "            \"Thought: you should always think about what to do\\n\"\n",
    "            f\"Action: the action to take, should be one of [{tool_names}]\\n\"\n",
    "            \"Action Input: the input to the action\\n\"\n",
    "            \"You must define input according to the following format (no explanations, no markdown):\\n\"\n",
    "            \"{\\n\"\n",
    "            '\"tool_name\": \"Function name\",\\n'\n",
    "            '\"tool_type\": \"Type of tool. Only get one of three values [\"function\", \"module\", \"mcp\"]\"\\n'\n",
    "            '\"arguments\": \"A dictionary of keyword-arguments to execute tool_name\",\\n'\n",
    "            '\"module_path\": \"Path to import the tool\"\\n'\n",
    "            \"}\\n\"\n",
    "            \"Observation: the result of the action\\n\"\n",
    "            \"... (this Thought/Action/Action Input/Observation can repeat N times)\\n\"\n",
    "            \"Thought: I now know the final answer\\n\"\n",
    "            \"Final Answer: the final answer to the original input question\\n\"\n",
    "\n",
    "            \"Begin!\\n\"\n",
    "\n",
    "            f\"Question: {query}\\n\"\n",
    "            \"Thought:\"\n",
    "        )    \n",
    "        return prompt"
   ]
  },
  {
   "cell_type": "code",
   "execution_count": 2,
   "id": "1d19f5cc",
   "metadata": {},
   "outputs": [],
   "source": [
    "from langchain_together import ChatTogether \n",
    "from vinagent.agent.agent import Agent\n",
    "from dotenv import load_dotenv\n",
    "load_dotenv()\n",
    "\n",
    "llm = ChatTogether(\n",
    "    model=\"meta-llama/Llama-3.3-70B-Instruct-Turbo-Free\"\n",
    "\n",
    ")"
   ]
  },
  {
   "cell_type": "code",
   "execution_count": 3,
   "id": "2e0aca4c",
   "metadata": {},
   "outputs": [
    {
     "name": "stderr",
     "output_type": "stream",
     "text": [
      "INFO:httpx:HTTP Request: POST https://api.together.xyz/v1/chat/completions \"HTTP/1.1 200 OK\"\n",
      "INFO:vinagent.register.tool:Registered weight_of_bulldog:\n",
      "{'tool_name': 'weight_of_bulldog', 'arguments': {}, 'return': '25', 'docstring': 'The weight of a bulldog', 'dependencies': [], 'module_path': 'vinagent.tools.average_dogs', 'tool_type': 'module', 'tool_call_id': 'tool_97492205-8683-45c4-bf12-e70c8990c27c'}\n",
      "INFO:vinagent.register.tool:Registered weight_of_husky:\n",
      "{'tool_name': 'weight_of_husky', 'arguments': {}, 'return': '20', 'docstring': 'The weight of a husky', 'dependencies': [], 'module_path': 'vinagent.tools.average_dogs', 'tool_type': 'module', 'tool_call_id': 'tool_5ef8be21-8aaf-49a1-ac11-e2becd376d21'}\n",
      "INFO:vinagent.register.tool:Registered average_weight_of_two_dogs:\n",
      "{'tool_name': 'average_weight_of_two_dogs', 'arguments': {'weight1': 0.0, 'weight2': 0.0}, 'return': '(weight1 + weight2) / 2', 'docstring': 'The average weight of two dogs', 'dependencies': [], 'module_path': 'vinagent.tools.average_dogs', 'tool_type': 'module', 'tool_call_id': 'tool_2b9b2105-d18a-497f-b497-d1fc212cdd0f'}\n",
      "INFO:vinagent.register.tool:Completed registration for module vinagent.tools.average_dogs\n",
      "INFO:httpx:HTTP Request: POST https://api.together.xyz/v1/chat/completions \"HTTP/1.1 200 OK\"\n",
      "INFO:vinagent.register.tool:Registered search_api:\n",
      "{'tool_name': 'search_api', 'arguments': {'query': {'type': 'Union[str, dict[str, str]]', 'value': '{}'}}, 'return': 'Any', 'docstring': 'Search for an answer from a query string\\n        Args:\\n            query (dict[str, str]):  The input query to search\\n        Returns:\\n            The answer from search query', 'dependencies': ['os', 'dotenv', 'tavily', 'dataclasses', 'typing'], 'module_path': 'vinagent.tools.websearch_tools', 'tool_type': 'module', 'tool_call_id': 'tool_aa190200-eb31-4ef5-b308-5d9d7d11bca3'}\n",
      "INFO:vinagent.register.tool:Completed registration for module vinagent.tools.websearch_tools\n"
     ]
    }
   ],
   "source": [
    "agent = ReactAgent(\n",
    "    decription=\"You are a helpful assistant.\",\n",
    "    skills=[\"Search on internet\"],\n",
    "    tools=[\n",
    "        'vinagent/tools/average_dogs.py',\n",
    "        'vinagent/tools/websearch_tools.py'\n",
    "    ],\n",
    "    llm=llm\n",
    ")"
   ]
  },
  {
   "cell_type": "code",
   "execution_count": 4,
   "id": "8096d400",
   "metadata": {},
   "outputs": [
    {
     "name": "stderr",
     "output_type": "stream",
     "text": [
      "INFO:vinagent.agent.agent:No authentication card provided, skipping authentication\n",
      "INFO:vinagent.agent.agent:I'am chatting with unknown_user\n",
      "INFO:vinagent.agent.agent:Tool calling iteration 1/10\n",
      "INFO:httpx:HTTP Request: POST https://api.together.xyz/v1/chat/completions \"HTTP/1.1 200 OK\"\n",
      "INFO:vinagent.agent.agent:Executing tool call: {'tool_name': 'weight_of_husky', 'tool_type': 'module', 'arguments': {}, 'module_path': 'vinagent.tools.average_dogs'}\n",
      "INFO:vinagent.register.tool:Completed executing module tool weight_of_husky({})\n",
      "INFO:vinagent.agent.agent:Tool calling iteration 2/10\n",
      "INFO:httpx:HTTP Request: POST https://api.together.xyz/v1/chat/completions \"HTTP/1.1 200 OK\"\n",
      "INFO:vinagent.agent.agent:Executing tool call: {'tool_name': 'weight_of_bulldog', 'tool_type': 'module', 'arguments': {}, 'module_path': 'vinagent.tools.average_dogs'}\n",
      "INFO:vinagent.register.tool:Completed executing module tool weight_of_bulldog({})\n",
      "INFO:vinagent.agent.agent:Tool calling iteration 3/10\n",
      "INFO:httpx:HTTP Request: POST https://api.together.xyz/v1/chat/completions \"HTTP/1.1 200 OK\"\n",
      "INFO:vinagent.agent.agent:Executing tool call: {'tool_name': 'average_weight_of_two_dogs', 'tool_type': 'module', 'arguments': {'weight1': 20, 'weight2': 25}, 'module_path': 'vinagent.tools.average_dogs'}\n",
      "INFO:vinagent.register.tool:Completed executing module tool average_weight_of_two_dogs({'weight1': 20, 'weight2': 25})\n",
      "INFO:vinagent.agent.agent:Tool calling iteration 4/10\n",
      "INFO:httpx:HTTP Request: POST https://api.together.xyz/v1/chat/completions \"HTTP/1.1 200 OK\"\n",
      "INFO:vinagent.agent.agent:No more tool calls needed. Completed in 4 iterations.\n"
     ]
    },
    {
     "name": "stdout",
     "output_type": "stream",
     "text": [
      "content='We have already calculated the average weight of a Husky and a Bulldog, which is 22.5.\\n\\nThought: I now know the final answer\\nFinal Answer: 22.5' additional_kwargs={'refusal': None} response_metadata={'token_usage': {'completion_tokens': 40, 'prompt_tokens': 3028, 'total_tokens': 3068, 'completion_tokens_details': None, 'prompt_tokens_details': None, 'cached_tokens': 0}, 'model_name': 'meta-llama/Llama-3.3-70B-Instruct-Turbo-Free', 'system_fingerprint': None, 'finish_reason': 'stop', 'logprobs': None} id='run-ed4ba12c-2710-4bc7-a20c-f713ae876f89-0' usage_metadata={'input_tokens': 3028, 'output_tokens': 40, 'total_tokens': 3068, 'input_token_details': {}, 'output_token_details': {}}\n"
     ]
    }
   ],
   "source": [
    "answer = agent.invoke(query=\"What is the average weight of two dogs Husky and Bulldog?\")\n",
    "print(answer)"
   ]
  },
  {
   "cell_type": "code",
   "execution_count": 6,
   "id": "c858ed92",
   "metadata": {},
   "outputs": [
    {
     "name": "stdout",
     "output_type": "stream",
     "text": [
      "We have already calculated the average weight of a Husky and a Bulldog, which is 22.5.\n",
      "\n",
      "Thought: I now know the final answer\n",
      "Final Answer: 22.5\n"
     ]
    }
   ],
   "source": [
    "print(answer.content)"
   ]
  }
 ],
 "metadata": {
  "kernelspec": {
   "display_name": ".venv",
   "language": "python",
   "name": "python3"
  },
  "language_info": {
   "codemirror_mode": {
    "name": "ipython",
    "version": 3
   },
   "file_extension": ".py",
   "mimetype": "text/x-python",
   "name": "python",
   "nbconvert_exporter": "python",
   "pygments_lexer": "ipython3",
   "version": "3.10.10"
  }
 },
 "nbformat": 4,
 "nbformat_minor": 5
}
