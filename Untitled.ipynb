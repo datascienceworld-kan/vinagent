{
 "cells": [
  {
   "cell_type": "code",
   "execution_count": 1,
   "id": "a23c3e8b-ed3d-4d90-8a69-e0aa7166c7d9",
   "metadata": {},
   "outputs": [
    {
     "name": "stderr",
     "output_type": "stream",
     "text": [
      "INFO:httpx:HTTP Request: POST https://api.together.xyz/v1/chat/completions \"HTTP/1.1 200 OK\"\n",
      "INFO:vinagent.register.tool:Registered fetch_stock_data:\n",
      "{'tool_name': 'fetch_stock_data', 'arguments': {'symbol': 'str', 'start_date': '2020-01-01', 'end_date': '2025-01-01', 'output_size': 'full'}, 'return': 'pd.DataFrame', 'docstring': 'Fetch stock data from Alpha Vantage', 'dependencies': ['alpha_vantage', 'pandas', 'redis', 'logger'], 'module_path': 'vinagent.tools.alpha_vantage_tools', 'tool_type': 'module', 'tool_call_id': 'tool_14a718a0-e985-4307-a44c-39d3889bc23d'}\n",
      "INFO:vinagent.register.tool:Registered visualize_stock_data:\n",
      "{'tool_name': 'visualize_stock_data', 'arguments': {'symbol': 'str', 'start_date': '2020-01-01', 'end_date': '2025-01-01', 'output_size': 'full', 'show_static': 'True', 'show_interactive': 'True'}, 'return': 'Optional[go.Figure]', 'docstring': 'Visualize stock data', 'dependencies': ['alpha_vantage', 'pandas', 'matplotlib', 'plotly', 'redis', 'logger'], 'module_path': 'vinagent.tools.alpha_vantage_tools', 'tool_type': 'module', 'tool_call_id': 'tool_2f3c1c76-0973-4d8e-9749-7db3db729955'}\n",
      "INFO:vinagent.register.tool:Registered plot_returns:\n",
      "{'tool_name': 'plot_returns', 'arguments': {'symbol': 'str', 'start_date': '2020-01-01', 'end_date': '2025-01-01', 'output_size': 'full'}, 'return': 'Optional[go.Figure]', 'docstring': 'Visualize cumulative returns of the stock', 'dependencies': ['alpha_vantage', 'pandas', 'plotly', 'redis', 'logger'], 'module_path': 'vinagent.tools.alpha_vantage_tools', 'tool_type': 'module', 'tool_call_id': 'tool_bdf5583b-78fe-4e5c-9ef6-fa52c08d51f5'}\n",
      "INFO:vinagent.register.tool:Completed registration for module vinagent.tools.alpha_vantage_tools\n"
     ]
    }
   ],
   "source": [
    "from langchain_together import ChatTogether \n",
    "from vinagent.agent.agent_extend import VinAgent\n",
    "from dotenv import load_dotenv\n",
    "load_dotenv()\n",
    "\n",
    "llm = ChatTogether(\n",
    "    model=\"meta-llama/Llama-3.3-70B-Instruct-Turbo-Free\"\n",
    ")\n",
    "\n",
    "# Step 1: Create Agent with tools\n",
    "agent = VinAgent(\n",
    "    description=\"You are a Financial Analyst\",\n",
    "    llm = llm,\n",
    "    skills = [\n",
    "        \"Deeply analyzing financial markets\", \n",
    "        \"Searching information about stock price\",\n",
    "        \"Visualization about stock price\"],\n",
    "    tools = ['vinagent.tools.alpha_vantage_tools'],\n",
    "    tools_path = 'xxx/xxx.json', # Place to save tools. Default is 'templates/tools.json'\n",
    ")"
   ]
  },
  {
   "cell_type": "code",
   "execution_count": null,
   "id": "c4c9851d-2ba7-4903-9ae9-7849c140eb2d",
   "metadata": {},
   "outputs": [],
   "source": [
    "df = agent.invoke(\"What is the price of Tesla stock in 2024?\")\n",
    "df"
   ]
  },
  {
   "cell_type": "code",
   "execution_count": null,
   "id": "8f55c47c-8396-49ea-8e92-5e0f6281ef97",
   "metadata": {},
   "outputs": [],
   "source": []
  }
 ],
 "metadata": {
  "kernelspec": {
   "display_name": "Python 3 (ipykernel)",
   "language": "python",
   "name": "python3"
  },
  "language_info": {
   "codemirror_mode": {
    "name": "ipython",
    "version": 3
   },
   "file_extension": ".py",
   "mimetype": "text/x-python",
   "name": "python",
   "nbconvert_exporter": "python",
   "pygments_lexer": "ipython3",
   "version": "3.11.13"
  }
 },
 "nbformat": 4,
 "nbformat_minor": 5
}
