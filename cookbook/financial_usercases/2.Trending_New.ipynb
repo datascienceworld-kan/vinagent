{
 "cells": [
  {
   "cell_type": "markdown",
   "id": "5e980a08",
   "metadata": {},
   "source": [
    "Install vinagent library"
   ]
  },
  {
   "cell_type": "code",
   "execution_count": null,
   "id": "27f716b4",
   "metadata": {},
   "outputs": [],
   "source": [
    "%pip install vinagent\n",
    "%pip install lxml"
   ]
  },
  {
   "cell_type": "markdown",
   "id": "10a5b8dd",
   "metadata": {},
   "source": [
    "Setup `.env` environment variables"
   ]
  },
  {
   "cell_type": "code",
   "execution_count": null,
   "id": "75b59050",
   "metadata": {},
   "outputs": [],
   "source": [
    "%%writefile .env\n",
    "TOGETHER_API_KEY=your_api_key\n",
    "TAVILY_API_KEY=your_tavily_api_key"
   ]
  },
  {
   "cell_type": "markdown",
   "id": "645f03e9",
   "metadata": {},
   "source": [
    "Initialize your LLM and Agent"
   ]
  },
  {
   "cell_type": "code",
   "execution_count": 1,
   "id": "f6c3adf0",
   "metadata": {},
   "outputs": [
    {
     "name": "stderr",
     "output_type": "stream",
     "text": [
      "INFO:httpx:HTTP Request: POST https://api.together.xyz/v1/chat/completions \"HTTP/1.1 200 OK\"\n",
      "INFO:vinagent.register.tool:Registered trending_news_google_tools:\n",
      "{'tool_name': 'trending_news_google_tools', 'arguments': {'top_k': 5, 'topic': 'AI', 'host_language': 'en-US', 'geo_location': 'US'}, 'return': 'a list of dictionaries containing the title, link, and summary of the top trending news', 'docstring': 'Summarize the top trending news from Google News from a given topic.', 'dependencies': ['logging', 're', 'typing', 'requests', 'dotenv', 'pandas', 'bs4', 'urllib.parse', 'langchain_together', 'googlenewsdecoder'], 'module_path': 'vinagent.tools.trending_news', 'tool_type': 'module', 'tool_call_id': 'tool_64ac41d7-450e-4ca1-8280-9fd3c37dc40c'}\n",
      "INFO:vinagent.register.tool:Registered TrendingTopics.get_ai_news:\n",
      "{'tool_name': 'TrendingTopics.get_ai_news', 'arguments': {'top_k': 5, 'topic': 'artificial intelligence', 'host_language': 'en-US', 'geo_location': 'US'}, 'return': 'pd.DataFrame: DataFrame containing article links', 'docstring': 'Fetch top 10 AI news articles.', 'dependencies': ['logging', 're', 'typing', 'requests', 'dotenv', 'pandas', 'bs4', 'urllib.parse', 'langchain_together', 'googlenewsdecoder'], 'module_path': 'vinagent.tools.trending_news', 'tool_type': 'module', 'tool_call_id': 'tool_c0f25283-ee65-4381-a91c-63d4c62a3466'}\n",
      "INFO:vinagent.register.tool:Registered TrendingTopics.get_summary:\n",
      "{'tool_name': 'TrendingTopics.get_summary', 'arguments': {'news_id': 0}, 'return': 'Dict', 'docstring': 'Generate JSON summary for a news article.', 'dependencies': ['logging', 're', 'typing', 'requests', 'dotenv', 'pandas', 'bs4', 'urllib.parse', 'langchain_together', 'googlenewsdecoder'], 'module_path': 'vinagent.tools.trending_news', 'tool_type': 'module', 'tool_call_id': 'tool_3b64284b-e858-43f4-9fec-fc9c7d85de50'}\n",
      "INFO:vinagent.register.tool:Registered TrendingTopics.summarize_article:\n",
      "{'tool_name': 'TrendingTopics.summarize_article', 'arguments': {'title': '', 'source_url': ''}, 'return': 'Optional[str]', 'docstring': 'Generate structured article summary.', 'dependencies': ['logging', 're', 'typing', 'requests', 'dotenv', 'pandas', 'bs4', 'urllib.parse', 'langchain_together', 'googlenewsdecoder'], 'module_path': 'vinagent.tools.trending_news', 'tool_type': 'module', 'tool_call_id': 'tool_647b02a0-66ac-4b49-9764-99d42ab41f61'}\n",
      "INFO:vinagent.register.tool:Registered TrendingTopics.extract_text_from_rss_url:\n",
      "{'tool_name': 'TrendingTopics.extract_text_from_rss_url', 'arguments': {'rss_url': ''}, 'return': 'Optional[str]', 'docstring': 'Extract cleaned text from RSS URL.', 'dependencies': ['logging', 're', 'typing', 'requests', 'dotenv', 'pandas', 'bs4', 'urllib.parse', 'langchain_together', 'googlenewsdecoder'], 'module_path': 'vinagent.tools.trending_news', 'tool_type': 'module', 'tool_call_id': 'tool_c9369568-fbaa-4a7e-a3a0-739efae35cfb'}\n",
      "INFO:vinagent.register.tool:Registered TrendingTopics.decode_rss_url:\n",
      "{'tool_name': 'TrendingTopics.decode_rss_url', 'arguments': {'source_url': ''}, 'return': 'Optional[str]', 'docstring': 'Decode Google News RSS URL.', 'dependencies': ['logging', 're', 'typing', 'requests', 'dotenv', 'pandas', 'bs4', 'urllib.parse', 'langchain_together', 'googlenewsdecoder'], 'module_path': 'vinagent.tools.trending_news', 'tool_type': 'module', 'tool_call_id': 'tool_ec0cb8c7-743c-4a8c-b753-4ef0a969c4f6'}\n",
      "INFO:vinagent.register.tool:Registered TrendingTopics._is_valid_url:\n",
      "{'tool_name': 'TrendingTopics._is_valid_url', 'arguments': {'url': ''}, 'return': 'bool', 'docstring': 'Validate URL format.', 'dependencies': ['logging', 're', 'typing', 'requests', 'dotenv', 'pandas', 'bs4', 'urllib.parse', 'langchain_together', 'googlenewsdecoder'], 'module_path': 'vinagent.tools.trending_news', 'tool_type': 'module', 'tool_call_id': 'tool_fdb1acc0-0086-4ca9-af29-c122100c854a'}\n",
      "INFO:vinagent.register.tool:Completed registration for module vinagent.tools.trending_news\n"
     ]
    }
   ],
   "source": [
    "from langchain_together import ChatTogether \n",
    "from vinagent.agent.agent import Agent\n",
    "from dotenv import load_dotenv, find_dotenv\n",
    "\n",
    "load_dotenv(find_dotenv('.env'))\n",
    "\n",
    "llm = ChatTogether(\n",
    "    model=\"meta-llama/Llama-3.3-70B-Instruct-Turbo-Free\"\n",
    ")\n",
    "\n",
    "agent = Agent(\n",
    "    description=\"You are a Financial Analyst\",\n",
    "    llm = llm,\n",
    "    skills = [\n",
    "        \"Deeply analyzing financial markets\", \n",
    "        \"Searching information about stock price\",\n",
    "        \"Visualization about stock price\"],\n",
    "    tools = [\n",
    "        'vinagent.tools.trending_news'\n",
    "    ],\n",
    "    tools_path = 'templates/tools.json',\n",
    "    is_reset_tools = True\n",
    ")"
   ]
  },
  {
   "cell_type": "markdown",
   "id": "91b4eb15",
   "metadata": {},
   "source": [
    "Ask your agent"
   ]
  },
  {
   "cell_type": "code",
   "execution_count": 2,
   "id": "a2272cc8",
   "metadata": {},
   "outputs": [
    {
     "name": "stderr",
     "output_type": "stream",
     "text": [
      "INFO:vinagent.agent.agent:I'am chatting with unknown_user\n",
      "INFO:httpx:HTTP Request: POST https://api.together.xyz/v1/chat/completions \"HTTP/1.1 200 OK\"\n",
      "INFO:root:{'tool_name': 'trending_news_google_tools', 'tool_type': 'module', 'arguments': {'top_k': 5, 'topic': 'NVIDIA', 'host_language': 'en-US', 'geo_location': 'US'}, 'module_path': 'vinagent.tools.trending_news'}\n",
      "INFO:httpx:HTTP Request: POST https://api.together.xyz/v1/chat/completions \"HTTP/1.1 200 OK\"\n",
      "INFO:vinagent.tools.trending_news:{'success': True, 'summary': \"# Where Will Nvidia Stock Be in 10 Years? - Yahoo Finance\\n## What is new?\\nNvidia's generative AI business is still performing well, but there are signs of slowing growth. The company's revenue growth has decelerated to 69% from 262% in the previous fiscal quarter. Additionally, new technologies like self-driving cars and robotics could be key to Nvidia's long-term success, with potential annual revenue of $300 billion to $400 billion by 2035 for self-driving technology and $38 billion for humanoid robots.\\n\\n## Highlight\\nThe key points of the article include: Nvidia's data center business represents 89% of its total revenue, the generative AI hardware business is slowing down, and the company has a forward price-to-earnings multiple of 34. Nvidia's expertise in designing and producing cutting-edge computer chips will give it an advantage in opportunities outside of generative AI, such as robotics and self-driving cars. The company's automation and robotics segment has already started to pick up, with first-quarter sales jumping 72% year over year to $567 million.\\n\\n## Why it matters\\nThe potential slowing down of Nvidia's generative AI business and the company's ability to pivot to new technologies will have a significant impact on its long-term success. If Nvidia can successfully transition to new business verticals, it may be able to maintain its dominant position in the market. However, if it fails to adapt to changing conditions, it may experience stagnation or decline, like many other companies that have failed to evolve over time. This makes it crucial for investors to consider the company's ability to innovate and adapt when making investment decisions.\\n\\n## Link\\nhttps://finance.yahoo.com/news/where-nvidia-stock-10-years-200000792.html\"}\n",
      "INFO:httpx:HTTP Request: POST https://api.together.xyz/v1/chat/completions \"HTTP/1.1 200 OK\"\n",
      "INFO:vinagent.tools.trending_news:{'success': True, 'summary': \"# Nvidia's latest DLSS revision reduces VRAM usage by 20% for upscaling — optimizations reduce overhead of more powerful transformer model - Tom's Hardware\\n## What is new?\\nNvidia has released a new revision of its DLSS (Deep Learning Super Sampling) technology, which reduces VRAM usage by 20% for upscaling. This update optimizes the transformer model, making it more efficient and reducing its memory footprint. The new revision, DLSS 310.3.0, improves the transformer model's VRAM usage, bringing it closer to the older CNN model's memory impact.\\n\\n## Highlight\\nThe key points of this update include:\\n* 20% reduction in VRAM usage for upscaling\\n* Optimizations reduce the overhead of the more powerful transformer model\\n* The new transformer model consumes 40% more memory than the CNN model, compared to nearly twice as much memory previously\\n* Memory consumption increases linearly with resolution, with the transformer model consuming 85.77MB of VRAM at 1080p and 307.37MB at 4K\\n\\n## Why it matters\\nThis update is significant because it shows Nvidia's commitment to improving the efficiency of its DLSS technology. While the 20% reduction in VRAM usage may not have a noticeable impact on real-world applications, it demonstrates the company's efforts to optimize its technology for better performance. Additionally, the reduction in memory footprint could be beneficial for systems with limited VRAM, particularly at higher resolutions like 8K. This update also highlights the ongoing advancements in AI-powered graphics technologies, which are becoming increasingly important for gaming and other graphics-intensive applications.\\n\\n## Link\\nhttps://www.tomshardware.com/pc-components/gpus/nvidias-latest-dlss-revision-reduces-vram-usage-by-20-percent-for-upscaling-optimizations-reduce-overhead-of-more-powerful-transformer-model\"}\n",
      "INFO:httpx:HTTP Request: POST https://api.together.xyz/v1/chat/completions \"HTTP/1.1 200 OK\"\n",
      "INFO:vinagent.tools.trending_news:{'success': True, 'summary': \"# Nvidia executives cash out $1bn worth of shares - Financial Times\\n## What is new?\\nNvidia executives have recently sold a substantial amount of shares, totaling $1 billion in value. This significant transaction has drawn attention to the financial activities of the company's leadership.\\n\\n## Highlight\\nThe key points of this news include the large-scale sale of Nvidia shares by its executives, with a total value of $1 billion. This transaction is notable due to the substantial amount involved and the fact that it involves high-ranking officials within the company.\\n\\n## Why it matters\\nThe sale of $1 billion worth of shares by Nvidia executives may indicate a shift in the company's internal dynamics or a response to market expectations. It could also reflect the executives' personal financial strategies or their confidence in the company's future prospects. This move may have implications for investor confidence and the overall market perception of Nvidia, potentially influencing the company's stock performance and future decisions.\\n\\n## Link\\nhttps://www.ft.com/content/36f346ad-c649-42ac-a6b6-1a8cc881e0bb\"}\n",
      "ERROR:vinagent.tools.trending_news:Error fetching URL https://www.theinformation.com/articles/google-convinces-openai-use-tpu-chips-win-nvidia: 403 Client Error: Forbidden for url: https://www.theinformation.com/articles/google-convinces-openai-use-tpu-chips-win-nvidia\n",
      "WARNING:vinagent.tools.trending_news:No text content extracted for https://www.theinformation.com/articles/google-convinces-openai-use-tpu-chips-win-nvidia\n",
      "INFO:vinagent.tools.trending_news:{'success': False, 'error': 'Failed to generate summary'}\n",
      "ERROR:vinagent.tools.trending_news:Error fetching URL https://seekingalpha.com/article/4797785-nvidia-the-music-is-about-to-stop: 403 Client Error: Forbidden for url: https://seekingalpha.com/article/4797785-nvidia-the-music-is-about-to-stop\n",
      "WARNING:vinagent.tools.trending_news:No text content extracted for https://seekingalpha.com/article/4797785-nvidia-the-music-is-about-to-stop\n",
      "INFO:vinagent.tools.trending_news:{'success': False, 'error': 'Failed to generate summary'}\n",
      "INFO:vinagent.register.tool:Completed executing module tool trending_news_google_tools({'top_k': 5, 'topic': 'NVIDIA', 'host_language': 'en-US', 'geo_location': 'US'})\n",
      "INFO:httpx:HTTP Request: POST https://api.together.xyz/v1/chat/completions \"HTTP/1.1 200 OK\"\n"
     ]
    }
   ],
   "source": [
    "message = agent.invoke(\"\"\"Let's find the top 5 trending news about NVIDIA today.\"\"\")"
   ]
  },
  {
   "cell_type": "markdown",
   "id": "9755fdda",
   "metadata": {},
   "source": [
    "Asking about NVIDIA"
   ]
  },
  {
   "cell_type": "code",
   "execution_count": 5,
   "id": "cdb9d5c7",
   "metadata": {},
   "outputs": [
    {
     "data": {
      "text/markdown": [
       "# Where Will Nvidia Stock Be in 10 Years? - Yahoo Finance\n",
       "## What is new?\n",
       "Nvidia's generative AI business is still performing well, but there are signs of slowing growth. The company's revenue growth has decelerated to 69% from 262% in the previous fiscal quarter. Additionally, new technologies like self-driving cars and robotics could be key to Nvidia's long-term success, with potential annual revenue of $300 billion to $400 billion by 2035 for self-driving technology and $38 billion for humanoid robots.\n",
       "\n",
       "## Highlight\n",
       "The key points of the article include: Nvidia's data center business represents 89% of its total revenue, the generative AI hardware business is slowing down, and the company has a forward price-to-earnings multiple of 34. Nvidia's expertise in designing and producing cutting-edge computer chips will give it an advantage in opportunities outside of generative AI, such as robotics and self-driving cars. The company's automation and robotics segment has already started to pick up, with first-quarter sales jumping 72% year over year to $567 million.\n",
       "\n",
       "## Why it matters\n",
       "The potential slowing down of Nvidia's generative AI business and the company's ability to pivot to new technologies will have a significant impact on its long-term success. If Nvidia can successfully transition to new business verticals, it may be able to maintain its dominant position in the market. However, if it fails to adapt to changing conditions, it may experience stagnation or decline, like many other companies that have failed to evolve over time. This makes it crucial for investors to consider the company's ability to innovate and adapt when making investment decisions.\n",
       "\n",
       "## Link\n",
       "https://finance.yahoo.com/news/where-nvidia-stock-10-years-200000792.html\n",
       "\n",
       "# Nvidia's latest DLSS revision reduces VRAM usage by 20% for upscaling — optimizations reduce overhead of more powerful transformer model - Tom's Hardware\n",
       "## What is new?\n",
       "Nvidia has released a new revision of its DLSS (Deep Learning Super Sampling) technology, which reduces VRAM usage by 20% for upscaling. This update optimizes the transformer model, making it more efficient and reducing its memory footprint. The new revision, DLSS 310.3.0, improves the transformer model's VRAM usage, bringing it closer to the older CNN model's memory impact.\n",
       "\n",
       "## Highlight\n",
       "The key points of this update include:\n",
       "* 20% reduction in VRAM usage for upscaling\n",
       "* Optimizations reduce the overhead of the more powerful transformer model\n",
       "* The new transformer model consumes 40% more memory than the CNN model, compared to nearly twice as much memory previously\n",
       "* Memory consumption increases linearly with resolution, with the transformer model consuming 85.77MB of VRAM at 1080p and 307.37MB at 4K\n",
       "\n",
       "## Why it matters\n",
       "This update is significant because it shows Nvidia's commitment to improving the efficiency of its DLSS technology. While the 20% reduction in VRAM usage may not have a noticeable impact on real-world applications, it demonstrates the company's efforts to optimize its technology for better performance. Additionally, the reduction in memory footprint could be beneficial for systems with limited VRAM, particularly at higher resolutions like 8K. This update also highlights the ongoing advancements in AI-powered graphics technologies, which are becoming increasingly important for gaming and other graphics-intensive applications.\n",
       "\n",
       "## Link\n",
       "https://www.tomshardware.com/pc-components/gpus/nvidias-latest-dlss-revision-reduces-vram-usage-by-20-percent-for-upscaling-optimizations-reduce-overhead-of-more-powerful-transformer-model\n",
       "\n",
       "# Nvidia executives cash out $1bn worth of shares - Financial Times\n",
       "## What is new?\n",
       "Nvidia executives have recently sold a substantial amount of shares, totaling $1 billion in value. This significant transaction has drawn attention to the financial activities of the company's leadership.\n",
       "\n",
       "## Highlight\n",
       "The key points of this news include the large-scale sale of Nvidia shares by its executives, with a total value of $1 billion. This transaction is notable due to the substantial amount involved and the fact that it involves high-ranking officials within the company.\n",
       "\n",
       "## Why it matters\n",
       "The sale of $1 billion worth of shares by Nvidia executives may indicate a shift in the company's internal dynamics or a response to market expectations. It could also reflect the executives' personal financial strategies or their confidence in the company's future prospects. This move may have implications for investor confidence and the overall market perception of Nvidia, potentially influencing the company's stock performance and future decisions.\n",
       "\n",
       "## Link\n",
       "https://www.ft.com/content/36f346ad-c649-42ac-a6b6-1a8cc881e0bb"
      ],
      "text/plain": [
       "<IPython.core.display.Markdown object>"
      ]
     },
     "metadata": {},
     "output_type": "display_data"
    }
   ],
   "source": [
    "from IPython.display import Markdown, display\n",
    "display(Markdown(message.artifact))"
   ]
  }
 ],
 "metadata": {
  "kernelspec": {
   "display_name": ".venv",
   "language": "python",
   "name": "python3"
  },
  "language_info": {
   "codemirror_mode": {
    "name": "ipython",
    "version": 3
   },
   "file_extension": ".py",
   "mimetype": "text/x-python",
   "name": "python",
   "nbconvert_exporter": "python",
   "pygments_lexer": "ipython3",
   "version": "3.10.10"
  }
 },
 "nbformat": 4,
 "nbformat_minor": 5
}
